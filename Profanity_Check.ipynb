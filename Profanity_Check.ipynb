{
  "nbformat": 4,
  "nbformat_minor": 0,
  "metadata": {
    "colab": {
      "name": "Profanity_Check.ipynb",
      "provenance": []
    },
    "kernelspec": {
      "name": "python3",
      "display_name": "Python 3"
    }
  },
  "cells": [
    {
      "cell_type": "code",
      "metadata": {
        "id": "UmWE9ye70h3X",
        "colab_type": "code",
        "colab": {}
      },
      "source": [
        "!pip install better_profanity"
      ],
      "execution_count": 0,
      "outputs": []
    },
    {
      "cell_type": "code",
      "metadata": {
        "id": "BZj2UEj36pLA",
        "colab_type": "code",
        "colab": {}
      },
      "source": [
        "!pip install numpy"
      ],
      "execution_count": 0,
      "outputs": []
    },
    {
      "cell_type": "code",
      "metadata": {
        "id": "hbo6ORD3tfI9",
        "colab_type": "code",
        "colab": {}
      },
      "source": [
        "!pip install pandas"
      ],
      "execution_count": 0,
      "outputs": []
    },
    {
      "cell_type": "code",
      "metadata": {
        "id": "g130xFrr3Ka5",
        "colab_type": "code",
        "colab": {}
      },
      "source": [
        "from better_profanity import profanity\n",
        "import numpy as np\n",
        "import pandas as pd"
      ],
      "execution_count": 0,
      "outputs": []
    },
    {
      "cell_type": "code",
      "metadata": {
        "id": "BwXGwEso2P8h",
        "colab_type": "code",
        "colab": {}
      },
      "source": [
        "titles = []\n",
        "\n",
        "with open(\"Titles_New.txt\", \"rt\", encoding = \"utf-8\") as f:\n",
        "    lines = f.readlines()\n",
        "    for x in lines:\n",
        "        line = x.strip(\"\\n\")\n",
        "        titles.append(line)"
      ],
      "execution_count": 0,
      "outputs": []
    },
    {
      "cell_type": "code",
      "metadata": {
        "id": "bfTHxskJ3N-Q",
        "colab_type": "code",
        "colab": {}
      },
      "source": [
        "cuss_words = []\n",
        "\n",
        "for x in titles:\n",
        "    c = 0\n",
        "    for i in x.split():\n",
        "        value = profanity.contains_profanity(i)\n",
        "        if value == True:\n",
        "            c += 1\n",
        "    cuss_words.append(c)"
      ],
      "execution_count": 0,
      "outputs": []
    },
    {
      "cell_type": "code",
      "metadata": {
        "id": "qkCl4jEmMKKg",
        "colab_type": "code",
        "colab": {}
      },
      "source": [
        "data = {\"Sentences\":titles,\n",
        "        \"Curse Words\":cuss_words}\n",
        "\n",
        "df = pd.DataFrame(data)"
      ],
      "execution_count": 0,
      "outputs": []
    },
    {
      "cell_type": "code",
      "metadata": {
        "id": "ZUCn2mTgt95T",
        "colab_type": "code",
        "outputId": "10619de5-48d4-44b0-a948-3ad7071ad5b6",
        "colab": {
          "base_uri": "https://localhost:8080/",
          "height": 419
        }
      },
      "source": [
        "df"
      ],
      "execution_count": 0,
      "outputs": [
        {
          "output_type": "execute_result",
          "data": {
            "text/html": [
              "<div>\n",
              "<style scoped>\n",
              "    .dataframe tbody tr th:only-of-type {\n",
              "        vertical-align: middle;\n",
              "    }\n",
              "\n",
              "    .dataframe tbody tr th {\n",
              "        vertical-align: top;\n",
              "    }\n",
              "\n",
              "    .dataframe thead th {\n",
              "        text-align: right;\n",
              "    }\n",
              "</style>\n",
              "<table border=\"1\" class=\"dataframe\">\n",
              "  <thead>\n",
              "    <tr style=\"text-align: right;\">\n",
              "      <th></th>\n",
              "      <th>Sentences</th>\n",
              "      <th>Curse Words</th>\n",
              "    </tr>\n",
              "  </thead>\n",
              "  <tbody>\n",
              "    <tr>\n",
              "      <th>0</th>\n",
              "      <td>New wiki on how to avoid accidentally encourag...</td>\n",
              "      <td>0</td>\n",
              "    </tr>\n",
              "    <tr>\n",
              "      <th>1</th>\n",
              "      <td>Reminder: Absolutely no activism of any kind i...</td>\n",
              "      <td>0</td>\n",
              "    </tr>\n",
              "    <tr>\n",
              "      <th>2</th>\n",
              "      <td>Too much of a pussy to kill myself</td>\n",
              "      <td>1</td>\n",
              "    </tr>\n",
              "    <tr>\n",
              "      <th>3</th>\n",
              "      <td>I hope the coronavirus spreads to my area</td>\n",
              "      <td>0</td>\n",
              "    </tr>\n",
              "    <tr>\n",
              "      <th>4</th>\n",
              "      <td>I’m finally getting help</td>\n",
              "      <td>0</td>\n",
              "    </tr>\n",
              "    <tr>\n",
              "      <th>...</th>\n",
              "      <td>...</td>\n",
              "      <td>...</td>\n",
              "    </tr>\n",
              "    <tr>\n",
              "      <th>2474</th>\n",
              "      <td>What are your reasons for wanting to die?</td>\n",
              "      <td>0</td>\n",
              "    </tr>\n",
              "    <tr>\n",
              "      <th>2475</th>\n",
              "      <td>Wow it hurts to live, want to just disappear</td>\n",
              "      <td>0</td>\n",
              "    </tr>\n",
              "    <tr>\n",
              "      <th>2476</th>\n",
              "      <td>I need to talk to somebody</td>\n",
              "      <td>0</td>\n",
              "    </tr>\n",
              "    <tr>\n",
              "      <th>2477</th>\n",
              "      <td>It's pointless to seek support, friend, or any...</td>\n",
              "      <td>0</td>\n",
              "    </tr>\n",
              "    <tr>\n",
              "      <th>2478</th>\n",
              "      <td>Just Someone help me tonight. Please</td>\n",
              "      <td>0</td>\n",
              "    </tr>\n",
              "  </tbody>\n",
              "</table>\n",
              "<p>2479 rows × 2 columns</p>\n",
              "</div>"
            ],
            "text/plain": [
              "                                              Sentences  Curse Words\n",
              "0     New wiki on how to avoid accidentally encourag...            0\n",
              "1     Reminder: Absolutely no activism of any kind i...            0\n",
              "2                    Too much of a pussy to kill myself            1\n",
              "3             I hope the coronavirus spreads to my area            0\n",
              "4                              I’m finally getting help            0\n",
              "...                                                 ...          ...\n",
              "2474          What are your reasons for wanting to die?            0\n",
              "2475       Wow it hurts to live, want to just disappear            0\n",
              "2476                         I need to talk to somebody            0\n",
              "2477  It's pointless to seek support, friend, or any...            0\n",
              "2478               Just Someone help me tonight. Please            0\n",
              "\n",
              "[2479 rows x 2 columns]"
            ]
          },
          "metadata": {
            "tags": []
          },
          "execution_count": 16
        }
      ]
    },
    {
      "cell_type": "code",
      "metadata": {
        "id": "oc5-fgizwvZD",
        "colab_type": "code",
        "colab": {}
      },
      "source": [
        "df.to_excel(\"Profanity_Check.xls\", header = True)"
      ],
      "execution_count": 0,
      "outputs": []
    }
  ]
}